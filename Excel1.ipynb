{
 "cells": [
  {
   "cell_type": "code",
   "execution_count": 1,
   "id": "3d798397-b72b-4093-b27c-34c38dc19911",
   "metadata": {},
   "outputs": [
    {
     "name": "stdout",
     "output_type": "stream",
     "text": [
      "Collecting openpyxl==3.0.4\n",
      "  Using cached openpyxl-3.0.4-py2.py3-none-any.whl (241 kB)\n",
      "Requirement already satisfied: jdcal in c:\\users\\miyamoto\\anaconda3\\lib\\site-packages (from openpyxl==3.0.4) (1.4.1)\n",
      "Requirement already satisfied: et-xmlfile in c:\\users\\miyamoto\\anaconda3\\lib\\site-packages (from openpyxl==3.0.4) (1.1.0)\n",
      "Installing collected packages: openpyxl\n",
      "  Attempting uninstall: openpyxl\n",
      "    Found existing installation: openpyxl 3.0.9\n",
      "    Uninstalling openpyxl-3.0.9:\n",
      "      Successfully uninstalled openpyxl-3.0.9\n",
      "Successfully installed openpyxl-3.0.4\n",
      "Note: you may need to restart the kernel to use updated packages.\n"
     ]
    }
   ],
   "source": [
    "pip install -U openpyxl==3.0.4"
   ]
  },
  {
   "cell_type": "code",
   "execution_count": 2,
   "id": "12e1eff8-bd90-4d35-b174-e55f347e9ddc",
   "metadata": {},
   "outputs": [
    {
     "data": {
      "text/plain": [
       "'3.0.4'"
      ]
     },
     "execution_count": 2,
     "metadata": {},
     "output_type": "execute_result"
    }
   ],
   "source": [
    "import openpyxl\n",
    "openpyxl.__version__"
   ]
  },
  {
   "cell_type": "code",
   "execution_count": 11,
   "id": "307be583-4a90-4dc1-9f27-201c700d32cb",
   "metadata": {},
   "outputs": [],
   "source": [
    "#ライブラリを取り込む\n",
    "import openpyxl as excel\n",
    "\n",
    "#新規ワークブックを作る\n",
    "book = excel.Workbook()\n",
    "\n",
    "#アクティブなワークシートを得る\n",
    "sheet = book.active\n",
    "\n",
    "#A1のセルに値を設定\n",
    "sheet[\"A1\"] = \"こんにちは\"\n",
    "\n",
    "#ファイル保存\n",
    "book.save(\"hello.xlsx\")"
   ]
  },
  {
   "cell_type": "code",
   "execution_count": 9,
   "id": "1f676935-804d-4c78-8292-af5b3b1f4786",
   "metadata": {},
   "outputs": [],
   "source": [
    "file = open('hello.xlsx', 'w',encoding='utf-8')"
   ]
  },
  {
   "cell_type": "code",
   "execution_count": 13,
   "id": "d91e321d-f4af-4d5a-95a4-454f0643aa1b",
   "metadata": {},
   "outputs": [
    {
     "name": "stdout",
     "output_type": "stream",
     "text": [
      "こんにちは\n"
     ]
    }
   ],
   "source": [
    "bool = excel.load_workbook(\"hello.xlsx\")\n",
    "\n",
    "sheet = book.worksheets[0]\n",
    "\n",
    "cell = sheet[\"A1\"]\n",
    "\n",
    "print(cell.value)"
   ]
  },
  {
   "cell_type": "code",
   "execution_count": 14,
   "id": "772a50b2-ed4c-4996-9f47-6be1f059a3a0",
   "metadata": {},
   "outputs": [],
   "source": [
    "book = excel.Workbook()\n",
    "sheet = book.active\n",
    "\n",
    "sheet[\"A1\"]=\"勤勉な人の計画は必ず成功する\"\n",
    "\n",
    "sheet.cell(row=2,column=1,value=\"猿の尻笑い\")\n",
    "\n",
    "cell = sheet.cell(row=3,column=1)\n",
    "cell.value=\"探すのに時があり諦めるのに時がある\"\n",
    "\n",
    "book.save(\"cell_w.xlsx\")"
   ]
  },
  {
   "cell_type": "code",
   "execution_count": 15,
   "id": "32dc2574-e986-45f2-9af4-49bdc06ad0a4",
   "metadata": {},
   "outputs": [],
   "source": [
    "book = excel.Workbook()\n",
    "sheet = book.active\n",
    "\n",
    "for i in range(10):\n",
    "    sheet.cell(row=(i+1),column=(1),value=i)\n",
    "    \n",
    "book.save(\"renzoku.xlsx\")"
   ]
  },
  {
   "cell_type": "code",
   "execution_count": 16,
   "id": "23574f3f-7cd8-4cd8-9b4e-ae8f3e8cae48",
   "metadata": {},
   "outputs": [],
   "source": [
    "book = excel.Workbook()\n",
    "sheet = book.active\n",
    "\n",
    "for y in range(1,10):\n",
    "    for x in range(1,10):\n",
    "        cell = sheet.cell(row=y,column=x)\n",
    "        cell.value=x*y\n",
    "        \n",
    "book.save(\"9x9.xlsx\")"
   ]
  },
  {
   "cell_type": "code",
   "execution_count": 17,
   "id": "53d820a6-7404-4821-b0d2-44a2790f3e73",
   "metadata": {},
   "outputs": [],
   "source": [
    "book = excel.Workbook()\n",
    "sheet = book.active\n",
    "\n",
    "for y in range(1,21):\n",
    "    for x in range(1,21):\n",
    "        cell = sheet.cell(row=y,column=x)\n",
    "        cell.value=x*y\n",
    "        \n",
    "book.save(\"20x20.xlsx\")"
   ]
  },
  {
   "cell_type": "code",
   "execution_count": 19,
   "id": "69d203d2-ff36-414a-827e-ee24a19fd925",
   "metadata": {},
   "outputs": [],
   "source": [
    "book = excel.Workbook()\n",
    "sheet=book.active\n",
    "\n",
    "for y in range(1,100):\n",
    "    for x in range(1,100):\n",
    "        cell=sheet.cell(y,x)\n",
    "        cell.value=x*y\n",
    "        \n",
    "book.save(\"100x100.xlsx\")"
   ]
  },
  {
   "cell_type": "code",
   "execution_count": 20,
   "id": "1ea4885f-142b-49de-b9e9-ebe202c531e8",
   "metadata": {},
   "outputs": [],
   "source": [
    "book = excel.Workbook()\n",
    "sheet = book.active\n",
    "\n",
    "for y in range(1,101):\n",
    "    for x in range(1,101):\n",
    "        cell = sheet.cell(row=y,column=x)\n",
    "        cell.value = cell.coordinate\n",
    "        \n",
    "book.save(\"test100.xlsx\")"
   ]
  },
  {
   "cell_type": "code",
   "execution_count": null,
   "id": "d31f818f-7a12-4ae4-aaad-2792b4810689",
   "metadata": {},
   "outputs": [],
   "source": []
  }
 ],
 "metadata": {
  "kernelspec": {
   "display_name": "Python 3 (ipykernel)",
   "language": "python",
   "name": "python3"
  },
  "language_info": {
   "codemirror_mode": {
    "name": "ipython",
    "version": 3
   },
   "file_extension": ".py",
   "mimetype": "text/x-python",
   "name": "python",
   "nbconvert_exporter": "python",
   "pygments_lexer": "ipython3",
   "version": "3.9.7"
  }
 },
 "nbformat": 4,
 "nbformat_minor": 5
}
