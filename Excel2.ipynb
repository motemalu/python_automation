{
 "cells": [
  {
   "cell_type": "code",
   "execution_count": 1,
   "id": "e25196c1-d4d2-407e-bf6d-6367d1890197",
   "metadata": {},
   "outputs": [],
   "source": [
    "import openpyxl as excel\n",
    "import datetime"
   ]
  },
  {
   "cell_type": "code",
   "execution_count": 2,
   "id": "57dcd6d8-bf6e-4097-89da-2ae532a19cba",
   "metadata": {},
   "outputs": [],
   "source": [
    "book = excel.Workbook()\n",
    "sheet = book.active\n",
    "\n",
    "thisyear = datetime.date.today().year\n",
    "\n",
    "for i in range(80):\n",
    "    \n",
    "    age = i\n",
    "    year =thisyear -i\n",
    "    \n",
    "    age_cell = sheet.cell(i+1, 1)\n",
    "    age_cell.value = str(i)+\"才\"\n",
    "    year_cell = sheet.cell(i+1, 2)\n",
    "    year_cell.value=str(year)+\"年\"\n",
    "    \n",
    "book.save(\"agelist.xlsx\")"
   ]
  },
  {
   "cell_type": "code",
   "execution_count": 5,
   "id": "87a38ea6-6ba3-4012-bf95-a77e1abfb8bf",
   "metadata": {},
   "outputs": [],
   "source": [
    "book = excel.Workbook()\n",
    "sheet = book.active\n",
    "\n",
    "base_year = datetime.date.today().year - 20\n",
    "\n",
    "for i in range(50):\n",
    "    year = base_year + i\n",
    "    s1 = year - 7\n",
    "    s2 = year - 6\n",
    "    sf = \"{}年4/2～{}年4/1に生まれた人\".format(s1, s2)\n",
    "    \n",
    "    sheet.cell(i+1, 1, value=str(year)+\"年度\")\n",
    "    sheet.cell(i+1, 2, value=sf)\n",
    "    \n",
    "book.save(\"nyugaku_list.xlsx\")"
   ]
  },
  {
   "cell_type": "code",
   "execution_count": 10,
   "id": "26941669-9565-4efe-93f6-06a447899756",
   "metadata": {},
   "outputs": [],
   "source": [
    "wareki_table = [\n",
    "    {\"name\":\"明治\", \"start\":1862, \"end\":1912},\n",
    "    {\"name\":\"大正\", \"start\":1912, \"end\":1926},\n",
    "    {\"name\":\"昭和\", \"start\":1926, \"end\":1989},\n",
    "    {\"name\":\"平成\", \"start\":1989, \"end\":2019},\n",
    "    {\"name\":\"令和\", \"start\":2019, \"end\":9999}\n",
    "]\n",
    "\n",
    "def seireki_wareki(year):\n",
    "    for w in wareki_table:\n",
    "        if w[\"start\"] <= year < w[\"end\"]:\n",
    "            y = str(year - w[\"start\"] + 1)+\"年\"\n",
    "            if y == \"1年\": y == \"元年\"\n",
    "            return w[\"name\"] + y\n",
    "    return \"不明\"\n",
    "\n",
    "\n",
    "    \n",
    "book = excel.Workbook()\n",
    "sheet = book.active\n",
    "\n",
    "sheet[\"A1\"] = \"西暦\"\n",
    "sheet[\"B1\"] = \"和暦\"\n",
    "\n",
    "start_y = 1930\n",
    "for i in range(100):\n",
    "    sei = start_y + i\n",
    "    wa = seireki_wareki(sei)\n",
    "    \n",
    "    sheet.cell(row=(2+i), column=1, value=str(sei)+\"年\")\n",
    "    sheet.cell(row=(2+i), column=2, value=wa)\n",
    "    #print(sei, \"=\", wa)\n",
    "    \n",
    "book.save(\"wareki.xlsx\")\n"
   ]
  },
  {
   "cell_type": "code",
   "execution_count": 12,
   "id": "aa2febb9-bcfc-4abd-acf3-be861888e872",
   "metadata": {},
   "outputs": [],
   "source": [
    "book = excel.Workbook()\n",
    "sheet = book.active\n",
    "\n",
    "sheet[\"A1\"]=\"2023/01/01\"\n",
    "sheet[\"B1\"]='=TEXT(A1,\"ggge年m月d日\")'\n",
    "\n",
    "book.save(\"susiki.xlsx\")"
   ]
  },
  {
   "cell_type": "code",
   "execution_count": 14,
   "id": "535d7a04-094b-4004-b836-804f9d87f165",
   "metadata": {},
   "outputs": [],
   "source": [
    "book = excel.Workbook()\n",
    "sheet = book.active\n",
    "\n",
    "sheet[\"A1\"]=\"西暦\"\n",
    "sheet[\"B1\"]=\"和暦\"\n",
    "\n",
    "start_y = 1930\n",
    "for i in range(100):\n",
    "    sei = str(start_y + i)\n",
    "    wa = '=TEXT(\"{}/1/1\",\"ggge年\")'.format(sei)\n",
    "    \n",
    "    sheet.cell(row=(2+i), column=1, value=sei+'年')\n",
    "    sheet.cell(row=(2+i), column=2, value=wa)\n",
    "    \n",
    "book.save(\"wareki2.xlsx\")"
   ]
  },
  {
   "cell_type": "code",
   "execution_count": null,
   "id": "dd889eac-ebeb-4c21-a6b1-826f2dbace50",
   "metadata": {},
   "outputs": [],
   "source": []
  }
 ],
 "metadata": {
  "kernelspec": {
   "display_name": "Python 3 (ipykernel)",
   "language": "python",
   "name": "python3"
  },
  "language_info": {
   "codemirror_mode": {
    "name": "ipython",
    "version": 3
   },
   "file_extension": ".py",
   "mimetype": "text/x-python",
   "name": "python",
   "nbconvert_exporter": "python",
   "pygments_lexer": "ipython3",
   "version": "3.9.7"
  }
 },
 "nbformat": 4,
 "nbformat_minor": 5
}
