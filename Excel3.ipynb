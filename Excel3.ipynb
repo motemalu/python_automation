{
 "cells": [
  {
   "cell_type": "code",
   "execution_count": 1,
   "id": "5a2fce00-bce2-4fe0-bf7f-1fad61017b11",
   "metadata": {},
   "outputs": [
    {
     "name": "stdout",
     "output_type": "stream",
     "text": [
      "H2\n",
      "H2\n"
     ]
    }
   ],
   "source": [
    "import openpyxl as excel\n",
    "\n",
    "book = excel.load_workbook(\"test100.xlsx\")\n",
    "sheet = book.active\n",
    "\n",
    "print(sheet[\"H2\"].value)\n",
    "\n",
    "cell = sheet.cell(row =2, column=8)\n",
    "print(cell.value)"
   ]
  },
  {
   "cell_type": "code",
   "execution_count": 3,
   "id": "ffb53340-3296-4dc4-909e-9baff91a5ad7",
   "metadata": {},
   "outputs": [
    {
     "name": "stdout",
     "output_type": "stream",
     "text": [
      "['B2', 'C2', 'D2']\n",
      "['B3', 'C3', 'D3']\n",
      "['B4', 'C4', 'D4']\n"
     ]
    }
   ],
   "source": [
    "book = excel.load_workbook(\"test100.xlsx\")\n",
    "sheet = book.active\n",
    "\n",
    "for y in range(2,5):\n",
    "    r = []\n",
    "    for x in range(2,5):\n",
    "        v = sheet.cell(row=y,column=x).value\n",
    "        r.append(v)\n",
    "    print(r)"
   ]
  },
  {
   "cell_type": "code",
   "execution_count": 4,
   "id": "af42ec01-61f0-406b-b525-812951de42c9",
   "metadata": {},
   "outputs": [
    {
     "name": "stdout",
     "output_type": "stream",
     "text": [
      "['B2', 'C2', 'D2']\n",
      "['B3', 'C3', 'D3']\n",
      "['B4', 'C4', 'D4']\n"
     ]
    }
   ],
   "source": [
    "book = excel.load_workbook(\"test100.xlsx\")\n",
    "sheet = book.active\n",
    "\n",
    "for row in sheet[\"B2\":\"D4\"]:\n",
    "    r = []\n",
    "    for cell in row:\n",
    "        r.append(cell.value)\n",
    "    print(r)"
   ]
  },
  {
   "cell_type": "code",
   "execution_count": 5,
   "id": "2e155e52-f60f-4556-bbf9-dd362dfa4719",
   "metadata": {},
   "outputs": [
    {
     "name": "stdout",
     "output_type": "stream",
     "text": [
      "((<Cell 'Sheet'.B2>, <Cell 'Sheet'.C2>, <Cell 'Sheet'.D2>), (<Cell 'Sheet'.B3>, <Cell 'Sheet'.C3>, <Cell 'Sheet'.D3>), (<Cell 'Sheet'.B4>, <Cell 'Sheet'.C4>, <Cell 'Sheet'.D4>))\n"
     ]
    }
   ],
   "source": [
    "book = excel.load_workbook(\"test100.xlsx\")\n",
    "sheet = book.active\n",
    "\n",
    "rows = sheet[\"B2:D4\"]\n",
    "print(rows)"
   ]
  },
  {
   "cell_type": "code",
   "execution_count": 10,
   "id": "43990419-9984-4049-9dd1-42699067c878",
   "metadata": {},
   "outputs": [
    {
     "name": "stdout",
     "output_type": "stream",
     "text": [
      "['B2', 'C2', 'D2']\n",
      "['B3', 'C3', 'D3']\n",
      "['B4', 'C4', 'D4']\n"
     ]
    }
   ],
   "source": [
    "book = excel.load_workbook(\"test100.xlsx\")\n",
    "sheet = book.active\n",
    "\n",
    "for row in sheet[\"B2\":\"D4\"]:\n",
    "    print([c.value for c in row])\n",
    "    "
   ]
  },
  {
   "cell_type": "code",
   "execution_count": 13,
   "id": "6ae7ffb5-1f12-4240-bc6a-2af2330b8693",
   "metadata": {},
   "outputs": [
    {
     "name": "stdout",
     "output_type": "stream",
     "text": [
      "['B2', 'C2', 'D2']\n",
      "['B3', 'C3', 'D3']\n",
      "['B4', 'C4', 'D4']\n"
     ]
    }
   ],
   "source": [
    "book = excel.load_workbook(\"test100.xlsx\")\n",
    "sheet = book.active\n",
    "\n",
    "it = sheet.iter_rows(\n",
    "        min_row=2,min_col=2,\n",
    "        max_row=4,max_col=4)\n",
    "\n",
    "for row in it:\n",
    "    r=[]\n",
    "    for cell in row:\n",
    "        r.append(cell.value)\n",
    "    print(r)"
   ]
  },
  {
   "cell_type": "code",
   "execution_count": 14,
   "id": "dbbbcbda-5b11-4e21-a833-a4490ed99dbc",
   "metadata": {},
   "outputs": [
    {
     "name": "stdout",
     "output_type": "stream",
     "text": [
      "['B2', 'C2', 'D2']\n",
      "['B3', 'C3', 'D3']\n",
      "['B4', 'C4', 'D4']\n"
     ]
    }
   ],
   "source": [
    "book = excel.load_workbook(\"test100.xlsx\")\n",
    "sheet = book.active\n",
    "\n",
    "it = sheet.iter_rows(\n",
    "    min_row=2,min_col=2,\n",
    "    max_row=4,max_col=4)\n",
    "\n",
    "for row in it:\n",
    "    print([c.value for c in row])\n"
   ]
  },
  {
   "cell_type": "code",
   "execution_count": 16,
   "id": "0a4445ab-9646-41e2-986a-438df58723e0",
   "metadata": {},
   "outputs": [
    {
     "name": "stdout",
     "output_type": "stream",
     "text": [
      "C2=(2,3)\n",
      "(2,3)=C2\n"
     ]
    }
   ],
   "source": [
    "book = excel.Workbook()\n",
    "sheet = book.active\n",
    "\n",
    "cell = sheet[\"C2\"]\n",
    "(row, col) = (cell.row,cell.column)\n",
    "print(\"C2=({},{})\".format(row,col))\n",
    "\n",
    "cell = sheet.cell(row=2,column=3)\n",
    "cdt = cell.coordinate\n",
    "print(\"(2,3)={}\".format(cdt))"
   ]
  },
  {
   "cell_type": "code",
   "execution_count": null,
   "id": "08ff6434-bbd1-4947-835d-8f747be717ae",
   "metadata": {},
   "outputs": [],
   "source": []
  }
 ],
 "metadata": {
  "kernelspec": {
   "display_name": "Python 3 (ipykernel)",
   "language": "python",
   "name": "python3"
  },
  "language_info": {
   "codemirror_mode": {
    "name": "ipython",
    "version": 3
   },
   "file_extension": ".py",
   "mimetype": "text/x-python",
   "name": "python",
   "nbconvert_exporter": "python",
   "pygments_lexer": "ipython3",
   "version": "3.9.7"
  }
 },
 "nbformat": 4,
 "nbformat_minor": 5
}
