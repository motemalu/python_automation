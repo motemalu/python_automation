{
 "cells": [
  {
   "cell_type": "code",
   "execution_count": 2,
   "id": "764d290f-3487-40df-9e6d-a6320fc90b70",
   "metadata": {},
   "outputs": [],
   "source": [
    "import openpyxl as excel"
   ]
  },
  {
   "cell_type": "code",
   "execution_count": 4,
   "id": "36c88266-572f-4b8c-bb7f-7d454ad2cc3f",
   "metadata": {},
   "outputs": [],
   "source": [
    "book = excel.Workbook()\n",
    "sheet = book.active\n",
    "\n",
    "sheet[\"A1\"]=\"３月　売上データ一覧\"\n",
    "sheet[\"A2\"]=\"日付け\"\n",
    "sheet[\"A3\"]=\"3月3日\"\n",
    "sheet[\"A4\"]=\"3月5日\"\n",
    "sheet[\"A5\"]=\"3月5日\"\n",
    "sheet[\"A6\"]=\"3月7日\"\n",
    "sheet[\"A7\"]=\"3月15日\"\n",
    "sheet[\"A8\"]=\"3月16日\"\n",
    "sheet[\"A9\"]=\"3月20日\"\n",
    "sheet.cell(row=2,column=2,value=\"購入者\")\n",
    "sheet.cell(row=3,column=2,value=\"鈴木太郎\")\n",
    "sheet.cell(row=4,column=2,value=\"伊藤次郎\")\n",
    "sheet.cell(row=5,column=2,value=\"西川三郎\")\n",
    "sheet.cell(row=6,column=2,value=\"山田史郎\")\n",
    "sheet.cell(row=7,column=2,value=\"伊藤次郎\")\n",
    "sheet.cell(row=8,column=2,value=\"山田史郎\")\n",
    "sheet.cell(row=9,column=2,value=\"山下五郎\")\n",
    "cell=sheet.cell(row=2,column=3)\n",
    "cell.value=\"品名\"\n",
    "cell=sheet.cell(row=3,column=3)\n",
    "cell.value=\"バナナ\"\n",
    "cell=sheet.cell(row=4,column=3)\n",
    "cell.value=\"リンゴ\"\n",
    "cell=sheet.cell(row=5,column=3)\n",
    "cell.value=\"イチゴ\"\n",
    "cell=sheet.cell(row=6,column=3)\n",
    "cell.value=\"バナナ\"\n",
    "cell=sheet.cell(row=7,column=3)\n",
    "cell.value=\"リンゴ\"\n",
    "cell=sheet.cell(row=8,column=3)\n",
    "cell.value=\"イチゴ\"\n",
    "cell=sheet.cell(row=9,column=3)\n",
    "cell.value=\"マンゴー\"\n",
    "sheet[\"D2\"]=\"個数\"\n",
    "sheet[\"D3\"]=3\n",
    "sheet[\"D4\"]=2\n",
    "sheet[\"D5\"]=2\n",
    "sheet[\"D6\"]=8\n",
    "sheet[\"D7\"]=2\n",
    "sheet[\"D8\"]=5\n",
    "sheet[\"D9\"]=3\n",
    "sheet.cell(row=2,column=5,value=\"値段\")\n",
    "sheet.cell(row=3,column=5,value=1000)\n",
    "sheet.cell(row=4,column=5,value=1500)\n",
    "sheet.cell(row=5,column=5,value=2000)\n",
    "sheet.cell(row=6,column=5,value=1000)\n",
    "sheet.cell(row=7,column=5,value=1500)\n",
    "sheet.cell(row=8,column=5,value=2000)\n",
    "sheet.cell(row=9,column=5,value=1900)\n",
    "sheet.cell(row=2,column=6,value=\"小計\")\n",
    "sheet.cell(row=3,column=6,value=3000)\n",
    "sheet.cell(row=4,column=6,value=3000)\n",
    "sheet.cell(row=5,column=6,value=4000)\n",
    "sheet.cell(row=6,column=6,value=8000)\n",
    "sheet.cell(row=7,column=6,value=3000)\n",
    "sheet.cell(row=8,column=6,value=10000)\n",
    "sheet.cell(row=9,column=6,value=5700)\n",
    "\n",
    "book.save(\"uriage.xlsx\")"
   ]
  },
  {
   "cell_type": "code",
   "execution_count": 5,
   "id": "2f290c20-0c84-4eb4-99a9-827d31f51e3c",
   "metadata": {},
   "outputs": [
    {
     "name": "stdout",
     "output_type": "stream",
     "text": [
      "['3月3日', '鈴木太郎', 'バナナ', 3, 1000, 3000]\n",
      "['3月5日', '伊藤次郎', 'リンゴ', 2, 1500, 3000]\n",
      "['3月5日', '西川三郎', 'イチゴ', 2, 2000, 4000]\n",
      "['3月7日', '山田史郎', 'バナナ', 8, 1000, 8000]\n",
      "['3月15日', '伊藤次郎', 'リンゴ', 2, 1500, 3000]\n",
      "['3月16日', '山田史郎', 'イチゴ', 5, 2000, 10000]\n",
      "['3月20日', '山下五郎', 'マンゴー', 3, 1900, 5700]\n"
     ]
    }
   ],
   "source": [
    "book = excel.load_workbook(\"uriage.xlsx\")\n",
    "#book = excel.load_workbook(\"uriage.xlsx\",data_only=Trueでエクセルの計算式が計算式ではなく結果で表示される)\n",
    "sheet = book.active\n",
    "\n",
    "rows = sheet[\"A3:F9\"]\n",
    "for row in rows:\n",
    "    values = [cell.value for cell in row]\n",
    "    print(values)"
   ]
  },
  {
   "cell_type": "code",
   "execution_count": 3,
   "id": "5ee4434e-cad9-433e-b1d8-47808dedbc67",
   "metadata": {},
   "outputs": [
    {
     "name": "stdout",
     "output_type": "stream",
     "text": [
      "['3月3日', '鈴木太郎', 'バナナ', 3, 1000, 3000]\n",
      "['3月5日', '伊藤次郎', 'リンゴ', 2, 1500, 3000]\n",
      "['3月5日', '西川三郎', 'イチゴ', 2, 2000, 4000]\n",
      "['3月7日', '山田史郎', 'バナナ', 8, 1000, 8000]\n",
      "['3月15日', '伊藤次郎', 'リンゴ', 2, 1500, 3000]\n",
      "['3月16日', '山田史郎', 'イチゴ', 5, 2000, 10000]\n",
      "['3月20日', '山下五郎', 'マンゴー', 3, 1900, 5700]\n"
     ]
    }
   ],
   "source": [
    "book = excel.load_workbook(\"uriage.xlsx\",data_only=True)\n",
    "sheet = book.active\n",
    "\n",
    "rows = sheet[\"A3\":\"F999\"]\n",
    "for row in rows:\n",
    "    values = [cell.value for cell in row]\n",
    "    if values[0] is None:\n",
    "        break\n",
    "    print(values)"
   ]
  },
  {
   "cell_type": "code",
   "execution_count": 5,
   "id": "055dd08a-1023-456b-9c77-8cc25985ccb6",
   "metadata": {},
   "outputs": [
    {
     "name": "stdout",
     "output_type": "stream",
     "text": [
      "['3月3日', '鈴木太郎', 'バナナ', 3, 1000, 3000]\n",
      "['3月5日', '伊藤次郎', 'リンゴ', 2, 1500, 3000]\n",
      "['3月5日', '西川三郎', 'イチゴ', 2, 2000, 4000]\n",
      "['3月7日', '山田史郎', 'バナナ', 8, 1000, 8000]\n",
      "['3月15日', '伊藤次郎', 'リンゴ', 2, 1500, 3000]\n",
      "['3月16日', '山田史郎', 'イチゴ', 5, 2000, 10000]\n",
      "['3月20日', '山下五郎', 'マンゴー', 3, 1900, 5700]\n"
     ]
    }
   ],
   "source": [
    "book = excel.load_workbook(\"uriage.xlsx\",data_only=True)\n",
    "sheet = book.active\n",
    "\n",
    "for row in sheet.iter_rows(min_row=3):\n",
    "    values = [cell.value for cell in row]\n",
    "    if values[0] is None:\n",
    "        break\n",
    "    print(values)"
   ]
  },
  {
   "cell_type": "code",
   "execution_count": null,
   "id": "6e257d07-0587-40d3-b858-19a1f8c91489",
   "metadata": {},
   "outputs": [],
   "source": []
  }
 ],
 "metadata": {
  "kernelspec": {
   "display_name": "Python 3 (ipykernel)",
   "language": "python",
   "name": "python3"
  },
  "language_info": {
   "codemirror_mode": {
    "name": "ipython",
    "version": 3
   },
   "file_extension": ".py",
   "mimetype": "text/x-python",
   "name": "python",
   "nbconvert_exporter": "python",
   "pygments_lexer": "ipython3",
   "version": "3.9.7"
  }
 },
 "nbformat": 4,
 "nbformat_minor": 5
}
