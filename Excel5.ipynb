{
 "cells": [
  {
   "cell_type": "code",
   "execution_count": 2,
   "id": "3d5a71d4-307b-49f9-ad90-8f17ef696cf1",
   "metadata": {},
   "outputs": [],
   "source": [
    "import openpyxl as excel\n",
    "import random"
   ]
  },
  {
   "cell_type": "code",
   "execution_count": 7,
   "id": "beb278ab-ffc6-46fc-837d-4c9e4b19b59f",
   "metadata": {},
   "outputs": [
    {
     "name": "stdout",
     "output_type": "stream",
     "text": [
      "ok,atari=16\n"
     ]
    }
   ],
   "source": [
    "atari = random.randint(1,100)\n",
    "book = excel.Workbook()\n",
    "book.active[\"B2\"]=\"当たりが書かれたシートを探そう\"\n",
    "\n",
    "for i in range(1,101):\n",
    "    sname=str(i)+\"番\"\n",
    "    sheet=book.create_sheet(title=sname)\n",
    "    \n",
    "    word = \"はずれ\"\n",
    "    if i == atari:\n",
    "        word = \"当たり\"\n",
    "    \n",
    "    for y in range(50):\n",
    "        for x in range(50):\n",
    "            c = sheet.cell(y+1,x+1)\n",
    "            c.value = word\n",
    "\n",
    "\n",
    "book.save(\"game100.xlsx\")\n",
    "print(f\"ok,atari={atari}\")"
   ]
  },
  {
   "cell_type": "code",
   "execution_count": 10,
   "id": "390c23b7-35ed-4e82-ace8-83f5b0aea46e",
   "metadata": {},
   "outputs": [
    {
     "name": "stdout",
     "output_type": "stream",
     "text": [
      "['古田 みき', '名古屋市', 'A']\n",
      "['山中 武雄', '横浜市', 'B']\n",
      "['浅野 雅紀', '名古屋市', 'C']\n",
      "['児玉 次郎', '横浜市', 'D']\n",
      "['天野 嘉人', '名古屋市', 'A']\n",
      "['東 太陽', '横浜市', 'B']\n",
      "['榊原 博貴', '名古屋市', 'D']\n",
      "['小西 博', '横浜市', 'D']\n",
      "['原口 雅刀', '名古屋市', 'B']\n",
      "['篠崎 良純', '横浜市', 'C']\n",
      "['小池 力也', '名古屋市', 'D']\n",
      "['鶴田 俊大', '横浜市', 'D']\n",
      "['松尾 晴彦', '名古屋市', 'B']\n",
      "['木村 一平', '横浜市', 'C']\n",
      "['中嶋 幹二', '名古屋市', 'D']\n",
      "['三好 哲也', '横浜市', 'A']\n",
      "['林 勇希', '名古屋市', 'C']\n",
      "['小笠原 信', '横浜市', 'C']\n",
      "['下村 純一', '名古屋市', 'D']\n"
     ]
    }
   ],
   "source": [
    "book = excel.load_workbook(\"all-customer.xlsx\")\n",
    "sheet = book[\"名簿\"]\n",
    "customers = [[\"名前\",\"住所\",\"購入プラン\"]]\n",
    "for row in sheet.iter_rows(min_row=3):\n",
    "    values = [v.value for v in row]\n",
    "    if values[0] is None:\n",
    "        break\n",
    "    area = values[1]\n",
    "    if area == \"横浜市\" or area == \"名古屋市\":\n",
    "        customers.append(values)\n",
    "        print(values)\n",
    "        \n",
    "new_book = excel.Workbook()\n",
    "new_sheet = new_book.active\n",
    "new_sheet[\"A1\"]=\"横浜と名古屋の顧客名簿\"\n",
    "\n",
    "for row,row_val in enumerate(customers):\n",
    "    for col,val in enumerate(row_val):\n",
    "        c = new_sheet.cell(2+row,1+col)\n",
    "        c.value = val\n",
    "        \n",
    "new_book.save(\"yokohama_nagoya.xlsx\")"
   ]
  },
  {
   "cell_type": "code",
   "execution_count": 12,
   "id": "a7888862-5001-4169-b41d-bfdcf636ef1d",
   "metadata": {},
   "outputs": [],
   "source": [
    "book = excel.load_workbook(\"all-customer.xlsx\")\n",
    "sheet = book[\"名簿\"]\n",
    "\n",
    "for row in sheet.iter_rows(min_row=3):\n",
    "    cells = [v.value for v in row]\n",
    "    if cells[0] is None:\n",
    "        break\n",
    "    #print(cells)\n",
    "    #各列のデータを変数に代入\n",
    "    (name,area,plan)=cells\n",
    "    sname = plan+\"プラン\"\n",
    "    if sname not in book.sheetnames:\n",
    "        to_sheet = book.create_sheet(title=sname)\n",
    "        to_sheet.append([\"名前\",\"住所\",\"プラン\"])\n",
    "    else:\n",
    "        to_sheet = book[sname]\n",
    "    to_sheet.append(cells)\n",
    "    \n",
    "book.save(\"split_sheet.xlsx\")"
   ]
  },
  {
   "cell_type": "code",
   "execution_count": null,
   "id": "bfb56ba3-3098-419c-b5ea-8d6e6654fd6f",
   "metadata": {},
   "outputs": [],
   "source": []
  }
 ],
 "metadata": {
  "kernelspec": {
   "display_name": "Python 3 (ipykernel)",
   "language": "python",
   "name": "python3"
  },
  "language_info": {
   "codemirror_mode": {
    "name": "ipython",
    "version": 3
   },
   "file_extension": ".py",
   "mimetype": "text/x-python",
   "name": "python",
   "nbconvert_exporter": "python",
   "pygments_lexer": "ipython3",
   "version": "3.9.7"
  }
 },
 "nbformat": 4,
 "nbformat_minor": 5
}
