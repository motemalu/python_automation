{
 "cells": [
  {
   "cell_type": "code",
   "execution_count": 19,
   "id": "1401736a-dbad-4b4a-b9fe-4637f7fb6863",
   "metadata": {},
   "outputs": [],
   "source": [
    "import openpyxl as xl\n",
    "from openpyxl.styles.alignment import Alignment\n",
    "from openpyxl.styles.borders import Border,Side\n",
    "from openpyxl.styles import Font\n",
    "from openpyxl.styles import PatternFill\n",
    "import datetime"
   ]
  },
  {
   "cell_type": "code",
   "execution_count": 2,
   "id": "5a46f7bd-6fc0-45de-9ebf-b4861c3a101a",
   "metadata": {},
   "outputs": [],
   "source": [
    "book =xl.Workbook()\n",
    "sheet = book.active\n",
    "\n",
    "val = 3.14159\n",
    "sheet.append([val,val,val])\n",
    "\n",
    "sheet[\"A1\"].number_format = '0'\n",
    "sheet[\"B1\"].number_format = '0.00'\n",
    "sheet[\"C1\"].number_format = '0.0000'\n",
    "\n",
    "book.save(\"number_format1.xlsx\")"
   ]
  },
  {
   "cell_type": "code",
   "execution_count": 9,
   "id": "7651b665-c8a8-4951-92ef-e55092563456",
   "metadata": {},
   "outputs": [],
   "source": [
    "book = xl.Workbook()\n",
    "sheet = book.active\n",
    "\n",
    "def set_cell(cname,value,fmt):\n",
    "    c = sheet[cname]\n",
    "    c.value = value\n",
    "    c.number_format = fmt\n",
    "    \n",
    "keta3_fmt= '#,##0'\n",
    "sheet[\"A1\"]=keta3_fmt\n",
    "set_cell(\"B1\",12345,keta3_fmt)\n",
    "set_cell(\"C1\",123456789,keta3_fmt)\n",
    "\n",
    "cur_fmt = '\"￥\"#,#00;\"￥\"\\\\-#,##0'\n",
    "sheet[\"A2\"]=cur_fmt\n",
    "set_cell(\"B2\",12345,cur_fmt)\n",
    "set_cell(\"C2\",-12345,cur_fmt)\n",
    "\n",
    "num_fmt = '#,##0;[red]\"△\"#,##0'\n",
    "sheet[\"A3\"]=num_fmt\n",
    "set_cell(\"B3\",12345,num_fmt)\n",
    "set_cell(\"C3\",-12345,num_fmt)\n",
    "\n",
    "book.save(\"number_format2.xlsx\")"
   ]
  },
  {
   "cell_type": "code",
   "execution_count": 11,
   "id": "c1f16b78-ff37-431b-8422-399e7229022f",
   "metadata": {},
   "outputs": [],
   "source": [
    "book = xl.Workbook()\n",
    "sheet = book.active\n",
    "\n",
    "dt = datetime.datetime(\n",
    "    year=2023,month=4,day=5,\n",
    "    hour=11,minute=22,second=33)\n",
    "sheet.append([dt,dt,dt,dt])\n",
    "\n",
    "sheet[\"A1\"].number_format='yyyy/mm/dd'\n",
    "sheet[\"B1\"].number_format = 'yyyy年mm月dd日'\n",
    "sheet[\"C1\"].number_format = 'hh:mm:ss'\n",
    "sheet[\"D1\"].number_format = 'mm/dd hh:mm:ss'\n",
    "\n",
    "book.save(\"number_format3.xlsx\")"
   ]
  },
  {
   "cell_type": "code",
   "execution_count": 14,
   "id": "b873cd94-4aec-4185-b191-a7fc43a83fc2",
   "metadata": {},
   "outputs": [],
   "source": [
    "book = xl.Workbook()\n",
    "sheet = book.active\n",
    "\n",
    "cell = sheet[\"A1\"]\n",
    "cell.value =345\n",
    "sheet[\"B1\"]=\"data_type=\"+cell.data_type\n",
    "\n",
    "cell = sheet[\"A2\"]\n",
    "cell.value=\"abc\"\n",
    "sheet[\"B2\"]=cell.data_type\n",
    "\n",
    "cell = sheet[\"A3\"]\n",
    "cell.value = datetime.date(2021,4,1)\n",
    "sheet[\"B3\"]=cell.data_type\n",
    "\n",
    "book.save(\"data_type.xlsx\")"
   ]
  },
  {
   "cell_type": "code",
   "execution_count": 24,
   "id": "d785ed5c-fe05-46ab-861c-cfdca4694f71",
   "metadata": {},
   "outputs": [],
   "source": [
    "book=xl.Workbook()\n",
    "sheet = book.active\n",
    "\n",
    "sheet.column_dimensions['B'].width =40\n",
    "sheet.row_dimensions[2].height = 40\n",
    "\n",
    "cell = sheet[\"B2\"]\n",
    "cell.value = \"喜びにあふれた心はいい薬\"\n",
    "\n",
    "cell.alignment = Alignment(horizontal = 'center',vertical='center')\n",
    "\n",
    "cell.border = Border(top=Side(style='thin',color='000000'),\n",
    "                     right=Side(style='thin',color='000000'),\n",
    "                     bottom=Side(style='thin',color='000000'),\n",
    "                     left=Side(style='thin',color='000000')\n",
    "                    )\n",
    "\n",
    "cell.font = Font(size=14,bold=True,italic=True,color='FFFFFF')\n",
    "\n",
    "cell.fill=PatternFill(fill_type='solid',fgColor='FF0000')\n",
    "\n",
    "book.save(\"style.xlsx\")"
   ]
  },
  {
   "cell_type": "code",
   "execution_count": null,
   "id": "175ffec0-facc-4aab-9b16-60981a3fc96c",
   "metadata": {},
   "outputs": [],
   "source": []
  }
 ],
 "metadata": {
  "kernelspec": {
   "display_name": "Python 3 (ipykernel)",
   "language": "python",
   "name": "python3"
  },
  "language_info": {
   "codemirror_mode": {
    "name": "ipython",
    "version": 3
   },
   "file_extension": ".py",
   "mimetype": "text/x-python",
   "name": "python",
   "nbconvert_exporter": "python",
   "pygments_lexer": "ipython3",
   "version": "3.9.7"
  }
 },
 "nbformat": 4,
 "nbformat_minor": 5
}
