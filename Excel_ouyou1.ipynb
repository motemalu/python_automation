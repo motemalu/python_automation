{
 "cells": [
  {
   "cell_type": "code",
   "execution_count": 1,
   "id": "67f71813-5a0c-4a69-82eb-959a609131ed",
   "metadata": {},
   "outputs": [],
   "source": [
    "import openpyxl as excel"
   ]
  },
  {
   "cell_type": "code",
   "execution_count": 4,
   "id": "f7989920-551e-466b-b77d-d8c197aaefd7",
   "metadata": {},
   "outputs": [],
   "source": [
    "template_file = 'invoice-template.xlsx'\n",
    "save_file = 'invoice01.xlsx'\n",
    "\n",
    "name = '田中一郎'\n",
    "subject = '1月分のご請求'\n",
    "items = [\n",
    "    ['リンゴ',5,320],\n",
    "    ['バナナ',8,210],\n",
    "    ['メロン',1,1200]\n",
    "]\n",
    "\n",
    "book = excel.load_workbook(template_file)\n",
    "sheet = book.active\n",
    "\n",
    "sheet[\"B4\"]=name\n",
    "sheet[\"C10\"]=subject\n",
    "total = 0\n",
    "\n",
    "for i,it in enumerate(items):\n",
    "    summary,count,price = it\n",
    "    subtotal = count*price\n",
    "    total += subtotal\n",
    "    \n",
    "    row = 15+i\n",
    "    sheet.cell(row,2,summary)\n",
    "    sheet.cell(row,5,count)\n",
    "    sheet.cell(row,6,price)\n",
    "    sheet.cell(row,7,subtotal)\n",
    "    \n",
    "sheet[\"C11\"]=total\n",
    "\n",
    "book.save(save_file)"
   ]
  },
  {
   "cell_type": "code",
   "execution_count": null,
   "id": "ad32750d-d013-4cb6-a7ae-cf47f7305f09",
   "metadata": {},
   "outputs": [],
   "source": []
  }
 ],
 "metadata": {
  "kernelspec": {
   "display_name": "Python 3 (ipykernel)",
   "language": "python",
   "name": "python3"
  },
  "language_info": {
   "codemirror_mode": {
    "name": "ipython",
    "version": 3
   },
   "file_extension": ".py",
   "mimetype": "text/x-python",
   "name": "python",
   "nbconvert_exporter": "python",
   "pygments_lexer": "ipython3",
   "version": "3.9.7"
  }
 },
 "nbformat": 4,
 "nbformat_minor": 5
}
