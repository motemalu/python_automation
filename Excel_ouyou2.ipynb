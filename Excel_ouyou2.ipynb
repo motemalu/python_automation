{
 "cells": [
  {
   "cell_type": "code",
   "execution_count": 1,
   "id": "8a5c10f7-a32d-4c41-ae35-044e930cbb55",
   "metadata": {},
   "outputs": [],
   "source": [
    "import glob\n",
    "import openpyxl as excel"
   ]
  },
  {
   "cell_type": "code",
   "execution_count": 2,
   "id": "d282e29a-aa03-413f-b6ec-318d2cc29f85",
   "metadata": {},
   "outputs": [
    {
     "name": "stdout",
     "output_type": "stream",
     "text": [
      "['100x100.xlsx', '20x20.xlsx', '9x9.xlsx', 'agelist.xlsx', 'all-customer.xlsx', 'cell_w.xlsx', 'data_type.xlsx', 'game100.xlsx', 'hello.xlsx', 'invoice-template.xlsx', 'invoice01.xlsx', 'number_format1.xlsx', 'number_format2.xlsx', 'number_format3.xlsx', 'nyugaku_list.xlsx', 'renzoku.xlsx', 'split_sheet.xlsx', 'style.xlsx', 'susiki.xlsx', 'test100.xlsx', 'uriage.xlsx', 'wareki.xlsx', 'wareki2.xlsx', 'yokohama_nagoya.xlsx']\n"
     ]
    }
   ],
   "source": [
    "files = glob.glob(\"*.xlsx\")\n",
    "print(files)"
   ]
  },
  {
   "cell_type": "code",
   "execution_count": 4,
   "id": "8d4a36dd-5052-4e44-b312-fa7c8069b142",
   "metadata": {},
   "outputs": [
    {
     "name": "stdout",
     "output_type": "stream",
     "text": [
      "read: ./salesbooks\\sales-inoue.xlsx\n",
      "[datetime.datetime(2020, 3, 1, 0, 0), '小島 重吉', 'ミカン', 2, 2500, 5000]\n",
      "[datetime.datetime(2020, 3, 2, 0, 0), '伊藤 次郎', 'リンゴ', 1, 1500, 1500]\n",
      "[datetime.datetime(2020, 3, 3, 0, 0), '西川 三郎', 'ミカン', 3, 2500, 7500]\n",
      "[datetime.datetime(2020, 3, 15, 0, 0), '山田 史朗', 'ミカン', 4, 2500, 10000]\n",
      "[datetime.datetime(2020, 3, 16, 0, 0), '小島 重吉', 'リンゴ', 2, 1500, 3000]\n",
      "[datetime.datetime(2020, 3, 17, 0, 0), '山田 史朗', 'ブドウ', 2, 3000, 6000]\n",
      "[datetime.datetime(2020, 3, 22, 0, 0), '小島 重吉', 'ブドウ', 2, 3000, 6000]\n",
      "read: ./salesbooks\\sales-kakei.xlsx\n",
      "[datetime.datetime(2020, 3, 6, 0, 0), '上田 祐輝', '醤油', 20, 1500, 30000]\n",
      "[datetime.datetime(2020, 3, 11, 0, 0), '松山 竜兵', 'ソース', 2, 1500, 3000]\n",
      "[datetime.datetime(2020, 3, 20, 0, 0), '上田 祐輝', '味噌', 8, 950, 7600]\n",
      "[datetime.datetime(2020, 3, 21, 0, 0), '松山 竜兵', '醤油', 10, 1500, 15000]\n",
      "read: ./salesbooks\\sales-ooda.xlsx\n",
      "[datetime.datetime(2020, 3, 6, 0, 0), '鈴木 太郎', 'ミカンゼリー', 20, 1500, 30000]\n",
      "[datetime.datetime(2020, 3, 11, 0, 0), '伊藤 次郎', '桃ゼリー', 2, 1500, 3000]\n",
      "[datetime.datetime(2020, 3, 20, 0, 0), '西川 三郎', 'ミカンゼリー', 8, 950, 7600]\n",
      "[datetime.datetime(2020, 3, 21, 0, 0), '松山 竜兵', '桃ゼリー', 10, 1500, 15000]\n",
      "read: ./salesbooks\\sales-tanaka.xlsx\n",
      "[datetime.datetime(2020, 3, 3, 0, 0), '上田 祐輝', '豆腐', 4, 1000, 4000]\n",
      "[datetime.datetime(2020, 3, 5, 0, 0), '松山 竜兵', '豆腐', 1, 1000, 1000]\n",
      "[datetime.datetime(2020, 3, 5, 0, 0), '大内 圭人', '湯葉', 1, 2000, 2000]\n",
      "[datetime.datetime(2020, 3, 7, 0, 0), '上田 祐輝', '大豆セット', 2, 2000, 4000]\n",
      "[datetime.datetime(2020, 3, 15, 0, 0), '松山 竜兵', '小豆', 1, 1000, 1000]\n",
      "[datetime.datetime(2020, 3, 16, 0, 0), '大内 圭人', '豆腐', 4, 1000, 4000]\n",
      "[datetime.datetime(2020, 3, 20, 0, 0), '松山 竜兵', '小豆', 5, 1000, 5000]\n",
      "read: ./salesbooks\\sales-yamda.xlsx\n",
      "[datetime.datetime(2020, 3, 3, 0, 0), '鈴木 太郎', 'バナナ', 3, 1000, 3000]\n",
      "[datetime.datetime(2020, 3, 5, 0, 0), '伊藤 次郎', 'リンゴ', 2, 1500, 3000]\n",
      "[datetime.datetime(2020, 3, 5, 0, 0), '西川 三郎', 'イチゴ', 2, 2000, 4000]\n",
      "[datetime.datetime(2020, 3, 7, 0, 0), '山田 史朗', 'バナナ', 8, 1000, 8000]\n",
      "[datetime.datetime(2020, 3, 15, 0, 0), '伊藤 次郎', 'リンゴ', 2, 1500, 3000]\n",
      "[datetime.datetime(2020, 3, 16, 0, 0), '山田 史朗', 'イチゴ', 5, 2000, 10000]\n",
      "[datetime.datetime(2020, 3, 20, 0, 0), '山下 五郎', 'マンゴー', 3, 1900, 5700]\n"
     ]
    }
   ],
   "source": [
    "target_dir = './salesbooks'\n",
    "save_file = 'matome.xlsx'\n",
    "\n",
    "def read_files():\n",
    "    book = excel.Workbook()\n",
    "    main_sheet = book.active\n",
    "    enumfiles(main_sheet)\n",
    "    book.save(save_file)\n",
    "    \n",
    "def enumfiles(main_sheet):\n",
    "    files = glob.glob(target_dir+'/*.xlsx')\n",
    "    for fname in files:\n",
    "        read_book(main_sheet,fname)\n",
    "        \n",
    "def read_book(main_sheet,fname):\n",
    "    print(\"read:\",fname)\n",
    "    book = excel.load_workbook(fname,data_only=True)\n",
    "    sheet=book.active\n",
    "    rows=sheet[\"A4:F999\"]\n",
    "    for row in rows:\n",
    "        values = [cell.value for cell in row]\n",
    "        if values[0] is None: break\n",
    "        print(values)\n",
    "        main_sheet.append(values)\n",
    "        \n",
    "if __name__ == \"__main__\":\n",
    "    read_files()"
   ]
  },
  {
   "cell_type": "code",
   "execution_count": null,
   "id": "d1d068ed-6197-4c25-904c-cfc195378421",
   "metadata": {},
   "outputs": [],
   "source": []
  }
 ],
 "metadata": {
  "kernelspec": {
   "display_name": "Python 3 (ipykernel)",
   "language": "python",
   "name": "python3"
  },
  "language_info": {
   "codemirror_mode": {
    "name": "ipython",
    "version": 3
   },
   "file_extension": ".py",
   "mimetype": "text/x-python",
   "name": "python",
   "nbconvert_exporter": "python",
   "pygments_lexer": "ipython3",
   "version": "3.9.7"
  }
 },
 "nbformat": 4,
 "nbformat_minor": 5
}
