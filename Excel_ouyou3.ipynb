{
 "cells": [
  {
   "cell_type": "code",
   "execution_count": 1,
   "id": "a209a6e5-1580-4951-91e6-ce6649fbe527",
   "metadata": {},
   "outputs": [
    {
     "name": "stdout",
     "output_type": "stream",
     "text": [
      "[['伊藤', 300], ['伊藤', 600], ['伊藤', 200]]\n",
      "伊藤 1100\n",
      "[['田中', 300], ['田中', 200]]\n",
      "田中 500\n"
     ]
    }
   ],
   "source": [
    "dummy_data=[\n",
    "    [\"伊藤\",300],\n",
    "    [\"伊藤\",600],\n",
    "    [\"伊藤\",200],\n",
    "    [\"田中\",300],\n",
    "    [\"田中\",200]\n",
    "]\n",
    "\n",
    "users = {}\n",
    "for row in dummy_data:\n",
    "    name,value = row\n",
    "    if name not in users:\n",
    "        users[name] = []\n",
    "    users[name].append(row)\n",
    "    \n",
    "for name,rows in users.items():\n",
    "    print(rows)\n",
    "    total = 0\n",
    "    for row in rows:\n",
    "        total += row[1]\n",
    "    print(name,total)"
   ]
  },
  {
   "cell_type": "code",
   "execution_count": 7,
   "id": "d768310b-194b-4c0b-b267-e3eb2ba187d4",
   "metadata": {},
   "outputs": [
    {
     "name": "stdout",
     "output_type": "stream",
     "text": [
      "小島 重吉 14000\n",
      "伊藤 次郎 10500\n",
      "西川 三郎 19100\n",
      "山田 史朗 34000\n",
      "上田 祐輝 45600\n",
      "松山 竜兵 40000\n",
      "鈴木 太郎 33000\n",
      "大内 圭人 6000\n",
      "山下 五郎 5700\n"
     ]
    }
   ],
   "source": [
    "import openpyxl as excel,json\n",
    "\n",
    "in_file = 'matome.xlsx'\n",
    "out_file = 'matome.json'\n",
    "\n",
    "def split_list():\n",
    "    users = read_and_split(in_file)\n",
    "    result = {}\n",
    "    for name,rows in users.items():\n",
    "        result[name] = calc_user(rows)\n",
    "        print(name,result[name]['total'])\n",
    "    with open(out_file,\"wt\") as fp:\n",
    "        json.dump(result,fp)\n",
    "        \n",
    "def read_and_split(in_file):\n",
    "    users = {}\n",
    "    sheet = excel.load_workbook(in_file).active\n",
    "    for row in sheet.iter_rows():\n",
    "        values = [col.value for col in row]\n",
    "        name = values[1]\n",
    "        if name not in users: users[name]=[]\n",
    "        users[name].append(values)\n",
    "    return users\n",
    "\n",
    "def calc_user(rows):\n",
    "    total = 0\n",
    "    items = []\n",
    "    for row in rows:\n",
    "        date,_,item,cnt,price,_=row\n",
    "        date_s = date.strftime('%m/%d')\n",
    "        items.append([date_s,item,cnt,price])\n",
    "        total += cnt*price\n",
    "    return {'items':items,'total':total}\n",
    "\n",
    "if __name__ == \"__main__\":\n",
    "    split_list()\n"
   ]
  },
  {
   "cell_type": "code",
   "execution_count": 16,
   "id": "7afad049-ad74-4273-8e16-b130592e0860",
   "metadata": {},
   "outputs": [],
   "source": [
    "sheet = excel.load_workbook('matome.xlsx').active"
   ]
  },
  {
   "cell_type": "code",
   "execution_count": 8,
   "id": "fa36d657-0788-46f0-a3b5-5b38c1d46437",
   "metadata": {},
   "outputs": [
    {
     "name": "stdout",
     "output_type": "stream",
     "text": [
      "save: ./invoice02/小島 重吉様.xlsx\n",
      "save: ./invoice02/伊藤 次郎様.xlsx\n",
      "save: ./invoice02/西川 三郎様.xlsx\n",
      "save: ./invoice02/山田 史朗様.xlsx\n",
      "save: ./invoice02/上田 祐輝様.xlsx\n",
      "save: ./invoice02/松山 竜兵様.xlsx\n",
      "save: ./invoice02/鈴木 太郎様.xlsx\n",
      "save: ./invoice02/大内 圭人様.xlsx\n",
      "save: ./invoice02/山下 五郎様.xlsx\n"
     ]
    }
   ],
   "source": [
    "import openpyxl as excel,json\n",
    "\n",
    "in_file = 'matome.json'\n",
    "out_dir = './invoice02'\n",
    "template_file = 'invoice-template.xlsx'\n",
    "subject = \"二月分のご請求\"\n",
    "\n",
    "def gen_invoice():\n",
    "    with open(in_file,\"rt\") as fp:\n",
    "        users = json.load(fp)\n",
    "        \n",
    "    for name,data in users.items():\n",
    "        make_user_invoice(name,data)\n",
    "        \n",
    "def make_user_invoice(name,data):\n",
    "    book=excel.load_workbook(template_file)\n",
    "    sheet=book.active\n",
    "    \n",
    "    sheet[\"B4\"]=name\n",
    "    sheet[\"C10\"]=subject\n",
    "    sheet[\"C11\"]=data[\"total\"]\n",
    "    \n",
    "    for i, it in enumerate(data['items']):\n",
    "        date, summary, cnt, price = it\n",
    "        row = 15+i\n",
    "        sheet.cell(row,2,summary+'('+date+')')\n",
    "        sheet.cell(row,5,cnt)\n",
    "        sheet.cell(row,6,price)\n",
    "        sheet.cell(row,7,cnt*price)\n",
    "        \n",
    "    out_file = out_dir+'/'+name+'様.xlsx'\n",
    "    book.save(out_file)\n",
    "    print(\"save:\",out_file)\n",
    "    \n",
    "if __name__ == \"__main__\":\n",
    "    gen_invoice()"
   ]
  },
  {
   "cell_type": "code",
   "execution_count": 3,
   "id": "b9847473-ab05-4546-a52d-94bcfb1a5291",
   "metadata": {},
   "outputs": [],
   "source": [
    "with open(\"matome.json\",\"rt\") as fp:\n",
    "    users = json.load(fp)"
   ]
  },
  {
   "cell_type": "code",
   "execution_count": null,
   "id": "118c36ed-0c5d-42f1-9b49-7f089040ac87",
   "metadata": {},
   "outputs": [],
   "source": []
  }
 ],
 "metadata": {
  "kernelspec": {
   "display_name": "Python 3 (ipykernel)",
   "language": "python",
   "name": "python3"
  },
  "language_info": {
   "codemirror_mode": {
    "name": "ipython",
    "version": 3
   },
   "file_extension": ".py",
   "mimetype": "text/x-python",
   "name": "python",
   "nbconvert_exporter": "python",
   "pygments_lexer": "ipython3",
   "version": "3.9.7"
  }
 },
 "nbformat": 4,
 "nbformat_minor": 5
}
