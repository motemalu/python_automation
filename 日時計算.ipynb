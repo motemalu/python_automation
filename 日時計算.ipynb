{
 "cells": [
  {
   "cell_type": "code",
   "execution_count": 20,
   "id": "f8fcd06f-9617-4c42-bf1c-6d6b7d71505c",
   "metadata": {},
   "outputs": [
    {
     "name": "stdout",
     "output_type": "stream",
     "text": [
      "2022-03-19 23:45:20.985243\n"
     ]
    }
   ],
   "source": [
    "from datetime import datetime, timedelta\n",
    "\n",
    "#現在時刻を取得\n",
    "t = datetime.now()\n",
    "print(t)"
   ]
  },
  {
   "cell_type": "code",
   "execution_count": 8,
   "id": "30cebac7-4029-4e88-98b0-b571a9ba2c3a",
   "metadata": {},
   "outputs": [
    {
     "name": "stdout",
     "output_type": "stream",
     "text": [
      "2022年03月19日 23時12分03秒\n"
     ]
    }
   ],
   "source": [
    "t= datetime.now()\n",
    "fmt = t.strftime('%Y年%m月%d日 %H時%M分%S秒')\n",
    "print(fmt)"
   ]
  },
  {
   "cell_type": "code",
   "execution_count": 9,
   "id": "ec091147-b14a-4438-8d53-ec53ae807295",
   "metadata": {},
   "outputs": [
    {
     "name": "stdout",
     "output_type": "stream",
     "text": [
      "2022年03月19日\n"
     ]
    }
   ],
   "source": [
    "t= datetime.now()\n",
    "fmt = t.strftime('%Y年%m月%d日')\n",
    "print(fmt)"
   ]
  },
  {
   "cell_type": "code",
   "execution_count": 10,
   "id": "0adfa022-9dfb-4db5-863c-ed14391d7f16",
   "metadata": {},
   "outputs": [
    {
     "name": "stdout",
     "output_type": "stream",
     "text": [
      "2022年01月01日\n"
     ]
    }
   ],
   "source": [
    "t=datetime(2022, 1, 1)\n",
    "print(t.strftime('%Y年%m月%d日'))"
   ]
  },
  {
   "cell_type": "code",
   "execution_count": 12,
   "id": "61ef4aa4-0bda-4092-be21-42ae1a47d83a",
   "metadata": {},
   "outputs": [
    {
     "name": "stdout",
     "output_type": "stream",
     "text": [
      "あと1121日です\n"
     ]
    }
   ],
   "source": [
    "yoteibi = datetime(2025, 4, 13)\n",
    "now = datetime.now()\n",
    "delta = yoteibi -now\n",
    "\n",
    "print(f'あと{str(delta.days+1)}日です')"
   ]
  },
  {
   "cell_type": "code",
   "execution_count": 19,
   "id": "867aef05-f570-4367-a6b2-aabae37ceee2",
   "metadata": {},
   "outputs": [
    {
     "name": "stdout",
     "output_type": "stream",
     "text": [
      "<class 'datetime.timedelta'>\n",
      "あと10.5時間です\n"
     ]
    }
   ],
   "source": [
    "sleep_t = datetime(2023, 1, 1,22, 0, 0)\n",
    "wakeup_t= datetime(2023, 1, 2, 8,30, 0)\n",
    "\n",
    "delta=wakeup_t - sleep_t\n",
    "print(type(delta))\n",
    "sec=delta.seconds\n",
    "hours = sec / (60*60)\n",
    "\n",
    "print(f'あと{hours}時間です')"
   ]
  },
  {
   "cell_type": "code",
   "execution_count": 29,
   "id": "612b2ba4-06da-416a-bf60-a731e0ef72b3",
   "metadata": {},
   "outputs": [
    {
     "name": "stdout",
     "output_type": "stream",
     "text": [
      "2025/03/20\n"
     ]
    }
   ],
   "source": [
    "base_t = datetime(2025, 2,27)\n",
    "t = base_t + timedelta(weeks=3)\n",
    "\n",
    "print(t.strftime('%Y/%m/%d'))"
   ]
  },
  {
   "cell_type": "code",
   "execution_count": null,
   "id": "b0c1b483-f5d9-4290-9fdf-7b66f9b4e96d",
   "metadata": {},
   "outputs": [],
   "source": []
  }
 ],
 "metadata": {
  "kernelspec": {
   "display_name": "Python 3 (ipykernel)",
   "language": "python",
   "name": "python3"
  },
  "language_info": {
   "codemirror_mode": {
    "name": "ipython",
    "version": 3
   },
   "file_extension": ".py",
   "mimetype": "text/x-python",
   "name": "python",
   "nbconvert_exporter": "python",
   "pygments_lexer": "ipython3",
   "version": "3.9.7"
  }
 },
 "nbformat": 4,
 "nbformat_minor": 5
}
